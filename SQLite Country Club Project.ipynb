{
 "cells": [
  {
   "cell_type": "code",
   "execution_count": 9,
   "id": "7d04490b",
   "metadata": {},
   "outputs": [],
   "source": [
    "from sqlalchemy import create_engine\n",
    "import pandas as pd\n",
    "\n",
    "engine = create_engine('sqlite:///sqlite_db_pythonsqlite.db')"
   ]
  },
  {
   "cell_type": "code",
   "execution_count": 15,
   "id": "bfc49004",
   "metadata": {},
   "outputs": [
    {
     "name": "stdout",
     "output_type": "stream",
     "text": [
      "            name  total_revenue\n",
      "0   Table Tennis            180\n",
      "1  Snooker Table            240\n",
      "2     Pool Table            270\n"
     ]
    }
   ],
   "source": [
    "query10 = '''SELECT name, total_revenue\n",
    "    FROM\n",
    "    (SELECT name, sum(revenue) AS total_revenue\n",
    "    From(\n",
    "        SELECT name,\n",
    "        CASE WHEN memid = 0 \n",
    "            THEN guestcost * slots\n",
    "        ELSE \n",
    "            membercost * slots END AS revenue\n",
    "        FROM Bookings\n",
    "        LEFT JOIN Facilities\n",
    "        USING (facid)\n",
    "        ) AS innerquery\n",
    "    GROUP BY name) AS outersubquery\n",
    "    WHERE total_revenue < 1000\n",
    "    ORDER BY total_revenue'''\n",
    "\n",
    "df = pd.read_sql_query(query10, engine)\n",
    "print(df)"
   ]
  },
  {
   "cell_type": "code",
   "execution_count": 17,
   "id": "2aeed0eb",
   "metadata": {},
   "outputs": [
    {
     "name": "stdout",
     "output_type": "stream",
     "text": [
      "              surname  firstname recommendedby_surname recommendedby_firstname\n",
      "0               Bader   Florence              Stibbons                  Ponder\n",
      "1               Baker       Anne              Stibbons                  Ponder\n",
      "2               Baker    Timothy               Farrell                  Jemima\n",
      "3              Boothe        Tim                Rownam                     Tim\n",
      "4             Butters     Gerald                 Smith                  Darren\n",
      "5              Coplin       Joan                 Baker                 Timothy\n",
      "6             Crumpet      Erica                 Smith                   Tracy\n",
      "7                Dare      Nancy              Joplette                  Janice\n",
      "8             Farrell      David                  None                    None\n",
      "9             Farrell     Jemima                  None                    None\n",
      "10              GUEST      GUEST                  None                    None\n",
      "11            Genting    Matthew               Butters                  Gerald\n",
      "12               Hunt       John               Purview               Millicent\n",
      "13              Jones      David              Joplette                  Janice\n",
      "14              Jones    Douglas                 Jones                   David\n",
      "15           Joplette     Janice                 Smith                  Darren\n",
      "16          Mackenzie       Anna                 Smith                  Darren\n",
      "17               Owen    Charles                 Smith                  Darren\n",
      "18             Pinker      David               Farrell                  Jemima\n",
      "19            Purview  Millicent                 Smith                   Tracy\n",
      "20             Rownam        Tim                  None                    None\n",
      "21             Rumney  Henrietta               Genting                 Matthew\n",
      "22             Sarwin  Ramnaresh                 Bader                Florence\n",
      "23              Smith     Darren                  None                    None\n",
      "24              Smith     Darren                  None                    None\n",
      "25              Smith       Jack                 Smith                  Darren\n",
      "26              Smith      Tracy                  None                    None\n",
      "27           Stibbons     Ponder                 Tracy                  Burton\n",
      "28              Tracy     Burton                  None                    None\n",
      "29         Tupperware   Hyacinth                  None                    None\n",
      "30  Worthington-Smyth      Henry                 Smith                   Tracy\n"
     ]
    }
   ],
   "source": [
    "query11 = '''SELECT m1.surname, m1.firstname,\n",
    "    m2.surname AS recommendedby_surname,\n",
    "    m2.firstname AS recommendedby_firstname\n",
    "    FROM Members m1\n",
    "    LEFT JOIN Members as m2\n",
    "    ON m1.recommendedby = m2.memid\n",
    "    WHERE m1.recommendedby != 0\n",
    "    ORDER BY m1.surname, m1.firstname'''\n",
    "df = pd.read_sql_query(query11, engine)\n",
    "print(df)"
   ]
  },
  {
   "cell_type": "code",
   "execution_count": 18,
   "id": "600a2deb",
   "metadata": {},
   "outputs": [
    {
     "name": "stdout",
     "output_type": "stream",
     "text": [
      "          facility  usage_by_members\n",
      "0   Tennis Court 1               308\n",
      "1   Tennis Court 2               276\n",
      "2  Badminton Court               344\n",
      "3     Table Tennis               385\n",
      "4   Massage Room 1               421\n",
      "5   Massage Room 2                27\n",
      "6     Squash Court               195\n",
      "7    Snooker Table               421\n",
      "8       Pool Table               783\n"
     ]
    }
   ],
   "source": [
    "query12 = '''SELECT name AS facility, count(memid) AS usage_by_members\n",
    "    FROM Bookings as b\n",
    "    INNER JOIN Facilities as f\n",
    "    USING (facid)\n",
    "    WHERE b.memid <> 0\n",
    "    GROUP BY b.facid'''\n",
    "\n",
    "df = pd.read_sql_query(query12, engine)\n",
    "print(df)"
   ]
  },
  {
   "cell_type": "code",
   "execution_count": 19,
   "id": "871e34d8",
   "metadata": {},
   "outputs": [
    {
     "name": "stdout",
     "output_type": "stream",
     "text": [
      "          facility  usage_by_members\n",
      "0   Tennis Court 1               308\n",
      "1   Tennis Court 2               276\n",
      "2  Badminton Court               344\n",
      "3     Table Tennis               385\n",
      "4   Massage Room 1               421\n",
      "5   Massage Room 2                27\n",
      "6     Squash Court               195\n",
      "7    Snooker Table               421\n",
      "8       Pool Table               783\n"
     ]
    }
   ],
   "source": [
    "query13 = ''' SELECT name AS facilities,\n",
    "    strftime('%m', starttime) AS month,\n",
    "    COUNT(memid) AS monthly_usage\n",
    "    FROM Bookings AS b\n",
    "    INNER JOIN Facilities as f\n",
    "    USING (facid)\n",
    "    WHERE memid <> 0\n",
    "    GROUP BY facid, month'''\n",
    "\n",
    "df = pd.read_sql_query(query12,engine)\n",
    "print(df)"
   ]
  },
  {
   "cell_type": "code",
   "execution_count": null,
   "id": "2aff4b33",
   "metadata": {},
   "outputs": [],
   "source": []
  }
 ],
 "metadata": {
  "kernelspec": {
   "display_name": "Python 3 (ipykernel)",
   "language": "python",
   "name": "python3"
  },
  "language_info": {
   "codemirror_mode": {
    "name": "ipython",
    "version": 3
   },
   "file_extension": ".py",
   "mimetype": "text/x-python",
   "name": "python",
   "nbconvert_exporter": "python",
   "pygments_lexer": "ipython3",
   "version": "3.9.12"
  }
 },
 "nbformat": 4,
 "nbformat_minor": 5
}
